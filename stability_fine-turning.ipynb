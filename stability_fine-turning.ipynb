{
 "cells": [
  {
   "cell_type": "code",
   "id": "initial_id",
   "metadata": {
    "collapsed": true,
    "ExecuteTime": {
     "end_time": "2024-12-02T08:53:50.140158Z",
     "start_time": "2024-12-02T08:53:48.740757Z"
    }
   },
   "source": [
    "import torch\n",
    "from transformers import AutoTokenizer, AutoModel\n",
    "import pandas as pd\n",
    "from torch.utils.data import Dataset, DataLoader\n",
    "from torch import nn\n",
    "from transformers import AdamW\n",
    "from sklearn.model_selection import train_test_split\n",
    "from sklearn.metrics import mean_squared_error, r2_score\n",
    "from tqdm import tqdm"
   ],
   "outputs": [
    {
     "name": "stderr",
     "output_type": "stream",
     "text": [
      "/opt/miniconda3/envs/ESM2/lib/python3.9/site-packages/tqdm/auto.py:21: TqdmWarning: IProgress not found. Please update jupyter and ipywidgets. See https://ipywidgets.readthedocs.io/en/stable/user_install.html\n",
      "  from .autonotebook import tqdm as notebook_tqdm\n"
     ]
    }
   ],
   "execution_count": 1
  },
  {
   "cell_type": "code",
   "id": "d51b2b7aed059631",
   "metadata": {
    "ExecuteTime": {
     "end_time": "2024-12-02T08:53:50.174109Z",
     "start_time": "2024-12-02T08:53:50.142557Z"
    }
   },
   "source": [
    "# 检查设备\n",
    "device = torch.device(\"mps\" if torch.backends.mps.is_available() else \"cuda\" if torch.cuda.is_available() else \"cpu\")\n",
    "print(f\"Using device: {device}\")\n",
    "batch_size = 1\n",
    "lr = 5e-5\n",
    "max_length = 128\n",
    "epochs = 5"
   ],
   "outputs": [
    {
     "name": "stdout",
     "output_type": "stream",
     "text": [
      "Using device: mps\n"
     ]
    }
   ],
   "execution_count": 2
  },
  {
   "cell_type": "code",
   "id": "58b996812be30cc3",
   "metadata": {
    "ExecuteTime": {
     "end_time": "2024-12-02T08:53:51.687855Z",
     "start_time": "2024-12-02T08:53:50.200389Z"
    }
   },
   "source": [
    "# 模型和存储路径\n",
    "model_name = \"facebook/esm2_t33_650M_UR50D\"\n",
    "model_path = \"./models\"\n",
    "\n",
    "# 加载模型和 tokenizer\n",
    "Tokenizer = AutoTokenizer.from_pretrained(model_name, cache_dir=model_path)\n",
    "model = AutoModel.from_pretrained(model_name, cache_dir=model_path)\n"
   ],
   "outputs": [
    {
     "name": "stderr",
     "output_type": "stream",
     "text": [
      "Some weights of EsmModel were not initialized from the model checkpoint at facebook/esm2_t33_650M_UR50D and are newly initialized: ['esm.pooler.dense.bias', 'esm.pooler.dense.weight']\n",
      "You should probably TRAIN this model on a down-stream task to be able to use it for predictions and inference.\n"
     ]
    }
   ],
   "execution_count": 3
  },
  {
   "cell_type": "code",
   "id": "762faa5c84f15d4e",
   "metadata": {
    "ExecuteTime": {
     "end_time": "2024-12-02T08:53:53.840260Z",
     "start_time": "2024-12-02T08:53:51.692721Z"
    }
   },
   "source": [
    "# 读取数据\n",
    "file_path = \"./data/df_combined_filtered_grouped.pkl\"\n",
    "df = pd.read_pickle(file_path)\n",
    "df_non_null_stability = df[df['stability'].notna()]\n",
    "data = df_non_null_stability[['sequence', 'stability']]\n",
    "data_dict = {\n",
    "    \"sequence\": data['sequence'].tolist(),\n",
    "    \"stability\": data['stability'].tolist(),\n",
    "}\n",
    "\n",
    "# 数据集类\n",
    "class SequenceStabilityDataset(Dataset):\n",
    "    def __init__(self, sequences, stabilities, tokenizer=Tokenizer, max_length=max_length):\n",
    "        self.sequences = sequences\n",
    "        self.stabilities = torch.tensor(stabilities, dtype=torch.float32)\n",
    "        self.encoded_sequences = tokenizer(\n",
    "            sequences, return_tensors=\"pt\", padding=True, truncation=True, max_length=max_length\n",
    "        )\n",
    "\n",
    "    def __len__(self):\n",
    "        return len(self.sequences)\n",
    "\n",
    "    def __getitem__(self, idx):\n",
    "        return {\n",
    "            'sequence': {key: val[idx] for key, val in self.encoded_sequences.items()},\n",
    "            'stability': self.stabilities[idx]\n",
    "        }\n",
    "\n",
    "# 数据集分割\n",
    "train_sequences, val_sequences, train_stabilities, val_stabilities = train_test_split(\n",
    "    data_dict['sequence'],\n",
    "    data_dict['stability'],\n",
    "    test_size=0.2,\n",
    "    random_state=42\n",
    ")\n",
    "\n",
    "train_dataset = SequenceStabilityDataset(train_sequences, train_stabilities, tokenizer=Tokenizer)\n",
    "val_dataset = SequenceStabilityDataset(val_sequences, val_stabilities, tokenizer=Tokenizer)\n",
    "\n",
    "train_dataloader = DataLoader(train_dataset, batch_size=batch_size, shuffle=True)\n",
    "val_dataloader = DataLoader(val_dataset, batch_size=batch_size, shuffle=False)\n"
   ],
   "outputs": [],
   "execution_count": 4
  },
  {
   "cell_type": "code",
   "id": "f95892fbc3832ccf",
   "metadata": {
    "ExecuteTime": {
     "end_time": "2024-12-02T08:53:53.849958Z",
     "start_time": "2024-12-02T08:53:53.847867Z"
    }
   },
   "source": [
    "# 模型定义\n",
    "class StabilityPredictor(nn.Module):\n",
    "    def __init__(self, base_model):\n",
    "        super(StabilityPredictor, self).__init__()\n",
    "        self.base_model = base_model\n",
    "        self.regressor = nn.Linear(base_model.config.hidden_size, 1)\n",
    "\n",
    "    def forward(self, input_ids, attention_mask):\n",
    "        outputs = self.base_model(input_ids=input_ids, attention_mask=attention_mask)\n",
    "        cls_hidden_state = outputs.last_hidden_state[:, 0, :]\n",
    "        stability = self.regressor(cls_hidden_state)\n",
    "        return stability"
   ],
   "outputs": [],
   "execution_count": 5
  },
  {
   "cell_type": "code",
   "id": "c66327e30fce5837",
   "metadata": {
    "ExecuteTime": {
     "end_time": "2024-12-02T08:53:55.323615Z",
     "start_time": "2024-12-02T08:53:53.855724Z"
    }
   },
   "source": [
    "# 初始化模型\n",
    "stability_model = StabilityPredictor(model)\n",
    "stability_model.to(device)\n",
    "\n",
    "# 损失函数和优化器\n",
    "criterion = nn.MSELoss()\n",
    "optimizer = AdamW(stability_model.parameters(), lr=lr)"
   ],
   "outputs": [
    {
     "name": "stderr",
     "output_type": "stream",
     "text": [
      "/opt/miniconda3/envs/ESM2/lib/python3.9/site-packages/transformers/optimization.py:591: FutureWarning: This implementation of AdamW is deprecated and will be removed in a future version. Use the PyTorch implementation torch.optim.AdamW instead, or set `no_deprecation_warning=True` to disable this warning\n",
      "  warnings.warn(\n"
     ]
    }
   ],
   "execution_count": 6
  },
  {
   "cell_type": "code",
   "id": "33eae45f65ae6306",
   "metadata": {
    "ExecuteTime": {
     "end_time": "2024-12-02T08:54:00.173523Z",
     "start_time": "2024-12-02T08:53:55.331023Z"
    }
   },
   "source": [
    "# 训练和验证\n",
    "for epoch in range(epochs):\n",
    "    # 训练阶段\n",
    "    stability_model.train()\n",
    "    train_loss = 0.0\n",
    "    train_progress = tqdm(train_dataloader, desc=f\"Epoch {epoch+1}/{epochs} (Training)\")\n",
    "    for batch in train_progress:\n",
    "        input_ids = batch['sequence']['input_ids'].to(device)\n",
    "        attention_mask = batch['sequence']['attention_mask'].to(device)\n",
    "        labels = batch['stability'].to(device)\n",
    "\n",
    "        optimizer.zero_grad()\n",
    "        outputs = stability_model(input_ids, attention_mask)\n",
    "        loss = criterion(outputs.squeeze(), labels)\n",
    "        loss.backward()\n",
    "        optimizer.step()\n",
    "\n",
    "        train_loss += loss.item()\n",
    "        avg_batch_loss = train_loss / (len(train_progress))\n",
    "        train_progress.set_postfix({\"Batch Loss\": loss.item(), \"Avg Loss\": avg_batch_loss})\n",
    "    avg_train_loss = train_loss / len(train_dataloader)\n",
    "\n",
    "    # 验证阶段\n",
    "    stability_model.eval()\n",
    "    val_loss = 0.0\n",
    "    val_progress = tqdm(val_dataloader, desc=f\"Epoch {epoch+1}/{epochs} (Validation)\")\n",
    "    with torch.no_grad():\n",
    "        for batch in val_progress:\n",
    "            input_ids = batch['sequence']['input_ids'].to(device)\n",
    "            attention_mask = batch['sequence']['attention_mask'].to(device)\n",
    "            labels = batch['stability'].to(device)\n",
    "\n",
    "            outputs = stability_model(input_ids, attention_mask)\n",
    "            loss = criterion(outputs.squeeze(), labels)\n",
    "            val_loss += loss.item()\n",
    "            avg_val_batch_loss = val_loss / (len(val_progress))\n",
    "            val_progress.set_postfix({\"Batch Loss\": loss.item(), \"Avg Loss\": avg_val_batch_loss})\n",
    "    avg_val_loss = val_loss / len(val_dataloader)\n",
    "\n",
    "    print(f\"Epoch {epoch+1}/{epochs} - Train Loss: {avg_train_loss:.4f}, Val Loss: {avg_val_loss:.4f}\")\n",
    "\n",
    "# 保存模型\n",
    "save_path = \"./stability_model.pth\"\n",
    "torch.save(stability_model.state_dict(), save_path)\n",
    "print(f\"Model saved to {save_path}\")"
   ],
   "outputs": [
    {
     "name": "stderr",
     "output_type": "stream",
     "text": [
      "Epoch 1/5 (Training):   0%|          | 0/79219 [00:00<?, ?it/s]/opt/miniconda3/envs/ESM2/lib/python3.9/site-packages/torch/nn/modules/loss.py:608: UserWarning: Using a target size (torch.Size([1])) that is different to the input size (torch.Size([])). This will likely lead to incorrect results due to broadcasting. Please ensure they have the same size.\n",
      "  return F.mse_loss(input, target, reduction=self.reduction)\n",
      "Epoch 1/5 (Training):   0%|          | 2/79219 [00:04<44:33:19,  2.02s/it, Batch Loss=1.2, Avg Loss=2.1e-5]   \n"
     ]
    },
    {
     "ename": "KeyboardInterrupt",
     "evalue": "",
     "output_type": "error",
     "traceback": [
      "\u001B[0;31m---------------------------------------------------------------------------\u001B[0m",
      "\u001B[0;31mKeyboardInterrupt\u001B[0m                         Traceback (most recent call last)",
      "Cell \u001B[0;32mIn[7], line 16\u001B[0m\n\u001B[1;32m     14\u001B[0m loss \u001B[38;5;241m=\u001B[39m criterion(outputs\u001B[38;5;241m.\u001B[39msqueeze(), labels)\n\u001B[1;32m     15\u001B[0m loss\u001B[38;5;241m.\u001B[39mbackward()\n\u001B[0;32m---> 16\u001B[0m \u001B[43moptimizer\u001B[49m\u001B[38;5;241;43m.\u001B[39;49m\u001B[43mstep\u001B[49m\u001B[43m(\u001B[49m\u001B[43m)\u001B[49m\n\u001B[1;32m     18\u001B[0m train_loss \u001B[38;5;241m+\u001B[39m\u001B[38;5;241m=\u001B[39m loss\u001B[38;5;241m.\u001B[39mitem()\n\u001B[1;32m     19\u001B[0m avg_batch_loss \u001B[38;5;241m=\u001B[39m train_loss \u001B[38;5;241m/\u001B[39m (\u001B[38;5;28mlen\u001B[39m(train_progress))\n",
      "File \u001B[0;32m/opt/miniconda3/envs/ESM2/lib/python3.9/site-packages/torch/optim/optimizer.py:487\u001B[0m, in \u001B[0;36mOptimizer.profile_hook_step.<locals>.wrapper\u001B[0;34m(*args, **kwargs)\u001B[0m\n\u001B[1;32m    482\u001B[0m         \u001B[38;5;28;01melse\u001B[39;00m:\n\u001B[1;32m    483\u001B[0m             \u001B[38;5;28;01mraise\u001B[39;00m \u001B[38;5;167;01mRuntimeError\u001B[39;00m(\n\u001B[1;32m    484\u001B[0m                 \u001B[38;5;124mf\u001B[39m\u001B[38;5;124m\"\u001B[39m\u001B[38;5;132;01m{\u001B[39;00mfunc\u001B[38;5;132;01m}\u001B[39;00m\u001B[38;5;124m must return None or a tuple of (new_args, new_kwargs), but got \u001B[39m\u001B[38;5;132;01m{\u001B[39;00mresult\u001B[38;5;132;01m}\u001B[39;00m\u001B[38;5;124m.\u001B[39m\u001B[38;5;124m\"\u001B[39m\n\u001B[1;32m    485\u001B[0m             )\n\u001B[0;32m--> 487\u001B[0m out \u001B[38;5;241m=\u001B[39m \u001B[43mfunc\u001B[49m\u001B[43m(\u001B[49m\u001B[38;5;241;43m*\u001B[39;49m\u001B[43margs\u001B[49m\u001B[43m,\u001B[49m\u001B[43m \u001B[49m\u001B[38;5;241;43m*\u001B[39;49m\u001B[38;5;241;43m*\u001B[39;49m\u001B[43mkwargs\u001B[49m\u001B[43m)\u001B[49m\n\u001B[1;32m    488\u001B[0m \u001B[38;5;28mself\u001B[39m\u001B[38;5;241m.\u001B[39m_optimizer_step_code()\n\u001B[1;32m    490\u001B[0m \u001B[38;5;66;03m# call optimizer step post hooks\u001B[39;00m\n",
      "File \u001B[0;32m/opt/miniconda3/envs/ESM2/lib/python3.9/site-packages/torch/utils/_contextlib.py:116\u001B[0m, in \u001B[0;36mcontext_decorator.<locals>.decorate_context\u001B[0;34m(*args, **kwargs)\u001B[0m\n\u001B[1;32m    113\u001B[0m \u001B[38;5;129m@functools\u001B[39m\u001B[38;5;241m.\u001B[39mwraps(func)\n\u001B[1;32m    114\u001B[0m \u001B[38;5;28;01mdef\u001B[39;00m \u001B[38;5;21mdecorate_context\u001B[39m(\u001B[38;5;241m*\u001B[39margs, \u001B[38;5;241m*\u001B[39m\u001B[38;5;241m*\u001B[39mkwargs):\n\u001B[1;32m    115\u001B[0m     \u001B[38;5;28;01mwith\u001B[39;00m ctx_factory():\n\u001B[0;32m--> 116\u001B[0m         \u001B[38;5;28;01mreturn\u001B[39;00m \u001B[43mfunc\u001B[49m\u001B[43m(\u001B[49m\u001B[38;5;241;43m*\u001B[39;49m\u001B[43margs\u001B[49m\u001B[43m,\u001B[49m\u001B[43m \u001B[49m\u001B[38;5;241;43m*\u001B[39;49m\u001B[38;5;241;43m*\u001B[39;49m\u001B[43mkwargs\u001B[49m\u001B[43m)\u001B[49m\n",
      "File \u001B[0;32m/opt/miniconda3/envs/ESM2/lib/python3.9/site-packages/transformers/optimization.py:648\u001B[0m, in \u001B[0;36mAdamW.step\u001B[0;34m(self, closure)\u001B[0m\n\u001B[1;32m    646\u001B[0m exp_avg\u001B[38;5;241m.\u001B[39mmul_(beta1)\u001B[38;5;241m.\u001B[39madd_(grad, alpha\u001B[38;5;241m=\u001B[39m(\u001B[38;5;241m1.0\u001B[39m \u001B[38;5;241m-\u001B[39m beta1))\n\u001B[1;32m    647\u001B[0m exp_avg_sq\u001B[38;5;241m.\u001B[39mmul_(beta2)\u001B[38;5;241m.\u001B[39maddcmul_(grad, grad, value\u001B[38;5;241m=\u001B[39m\u001B[38;5;241m1.0\u001B[39m \u001B[38;5;241m-\u001B[39m beta2)\n\u001B[0;32m--> 648\u001B[0m denom \u001B[38;5;241m=\u001B[39m \u001B[43mexp_avg_sq\u001B[49m\u001B[38;5;241;43m.\u001B[39;49m\u001B[43msqrt\u001B[49m\u001B[43m(\u001B[49m\u001B[43m)\u001B[49m\u001B[38;5;241m.\u001B[39madd_(group[\u001B[38;5;124m\"\u001B[39m\u001B[38;5;124meps\u001B[39m\u001B[38;5;124m\"\u001B[39m])\n\u001B[1;32m    650\u001B[0m step_size \u001B[38;5;241m=\u001B[39m group[\u001B[38;5;124m\"\u001B[39m\u001B[38;5;124mlr\u001B[39m\u001B[38;5;124m\"\u001B[39m]\n\u001B[1;32m    651\u001B[0m \u001B[38;5;28;01mif\u001B[39;00m group[\u001B[38;5;124m\"\u001B[39m\u001B[38;5;124mcorrect_bias\u001B[39m\u001B[38;5;124m\"\u001B[39m]:  \u001B[38;5;66;03m# No bias correction for Bert\u001B[39;00m\n",
      "\u001B[0;31mKeyboardInterrupt\u001B[0m: "
     ]
    }
   ],
   "execution_count": 7
  },
  {
   "cell_type": "code",
   "execution_count": null,
   "id": "a6e753dbf03a7ad1",
   "metadata": {},
   "outputs": [],
   "source": [
    "# 评估模型性能\n",
    "stability_model.eval()\n",
    "predictions = []\n",
    "true_values = []\n",
    "with torch.no_grad():\n",
    "    for batch in val_dataloader:\n",
    "        input_ids = batch['sequence']['input_ids'].to(device)\n",
    "        attention_mask = batch['sequence']['attention_mask'].to(device)\n",
    "        labels = batch['stability'].to(device)\n",
    "\n",
    "        outputs = stability_model(input_ids, attention_mask)\n",
    "        predictions.extend(outputs.squeeze().cpu().numpy())\n",
    "        true_values.extend(labels.cpu().numpy())\n",
    "\n",
    "mse = mean_squared_error(true_values, predictions)\n",
    "r2 = r2_score(true_values, predictions)\n",
    "print(f\"Mean Squared Error: {mse:.4f}, R^2 Score: {r2:.4f}\")\n",
    "\n",
    "mse = mean_squared_error(true_values, predictions)\n",
    "r2 = r2_score(true_values, predictions)\n",
    "print(f\"Mean Squared Error: {mse:.4f}, R^2 Score: {r2:.4f}\")"
   ]
  },
  {
   "cell_type": "code",
   "execution_count": null,
   "id": "da869547c4b7c217",
   "metadata": {},
   "outputs": [],
   "source": [
    "# 预测稳定性\n",
    "sequence = \"MKTVRQERLKSIVRILERSKEPVSGAQLAEELSVSRQVIVQDIAYLRSLGYNIVATPRGYVLAGG\"\n",
    "encoded_sequence = Tokenizer(sequence, return_tensors=\"pt\")\n",
    "input_ids = encoded_sequence['input_ids'].to(device)\n",
    "attention_mask = encoded_sequence['attention_mask'].to(device)\n",
    "stability = stability_model(input_ids, attention_mask).item()\n",
    "print(f\"Predicted Stability: {stability:.4f}\")"
   ]
  },
  {
   "metadata": {},
   "cell_type": "code",
   "outputs": [],
   "execution_count": null,
   "source": "",
   "id": "bf48d531332a5181"
  }
 ],
 "metadata": {
  "kernelspec": {
   "display_name": "Python 3",
   "language": "python",
   "name": "python3"
  },
  "language_info": {
   "codemirror_mode": {
    "name": "ipython",
    "version": 2
   },
   "file_extension": ".py",
   "mimetype": "text/x-python",
   "name": "python",
   "nbconvert_exporter": "python",
   "pygments_lexer": "ipython2",
   "version": "2.7.6"
  }
 },
 "nbformat": 4,
 "nbformat_minor": 5
}
