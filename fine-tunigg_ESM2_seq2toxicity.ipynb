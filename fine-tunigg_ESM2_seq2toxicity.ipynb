{
 "cells": [
  {
   "cell_type": "code",
   "id": "initial_id",
   "metadata": {
    "collapsed": true,
    "ExecuteTime": {
     "end_time": "2024-12-02T08:07:11.344179Z",
     "start_time": "2024-12-02T08:07:11.320611Z"
    }
   },
   "source": [
    "# load data\n",
    "import pandas as pd\n",
    "\n",
    "# 读取 .pkl 文件\n",
    "file_path = \"./data/df_combined_filtered_grouped.pkl\"  # 请根据实际文件路径替换\n",
    "df = pd.read_pickle(file_path)\n",
    "# 筛选出 toxicity 列不为空的行\n",
    "df_non_null_toxicity = df[df['toxicity'].notna()]\n",
    "\n",
    "# 如果需要知道筛选后的行数\n",
    "print(f\"\\n筛选后数据行数: {len(df_non_null_toxicity)}\")"
   ],
   "outputs": [
    {
     "name": "stdout",
     "output_type": "stream",
     "text": [
      "\n",
      "筛选后数据行数: 19546\n"
     ]
    }
   ],
   "execution_count": 2
  }
 ],
 "metadata": {
  "kernelspec": {
   "display_name": "Python 3",
   "language": "python",
   "name": "python3"
  },
  "language_info": {
   "codemirror_mode": {
    "name": "ipython",
    "version": 2
   },
   "file_extension": ".py",
   "mimetype": "text/x-python",
   "name": "python",
   "nbconvert_exporter": "python",
   "pygments_lexer": "ipython2",
   "version": "2.7.6"
  }
 },
 "nbformat": 4,
 "nbformat_minor": 5
}
