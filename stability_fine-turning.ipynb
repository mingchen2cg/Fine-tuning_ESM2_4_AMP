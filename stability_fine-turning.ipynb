{
 "cells": [
  {
   "cell_type": "code",
   "execution_count": null,
   "id": "initial_id",
   "metadata": {
    "ExecuteTime": {
     "end_time": "2024-12-01T13:17:57.207470Z",
     "start_time": "2024-12-01T13:17:55.295823Z"
    },
    "collapsed": true
   },
   "outputs": [],
   "source": [
    "import torch\n",
    "from transformers import AutoTokenizer, AutoModel\n",
    "import pandas as pd\n",
    "from torch.utils.data import Dataset, DataLoader\n",
    "from torch import nn\n",
    "from transformers import AdamW\n",
    "from sklearn.model_selection import train_test_split\n",
    "from sklearn.metrics import mean_squared_error, r2_score\n",
    "from tqdm import tqdm"
   ]
  },
  {
   "cell_type": "code",
   "execution_count": null,
   "id": "d51b2b7aed059631",
   "metadata": {
    "ExecuteTime": {
     "end_time": "2024-12-01T13:17:59.651736Z",
     "start_time": "2024-12-01T13:17:59.611797Z"
    }
   },
   "outputs": [],
   "source": [
    "# 检查设备\n",
    "device = torch.device(\"mps\" if torch.backends.mps.is_available() else \"cuda\" if torch.cuda.is_available() else \"cpu\")\n",
    "print(f\"Using device: {device}\")\n",
    "batch_size = 1\n",
    "lr = 5e-5\n",
    "max_length = 128\n",
    "epochs = 5"
   ]
  },
  {
   "cell_type": "code",
   "execution_count": null,
   "id": "58b996812be30cc3",
   "metadata": {
    "ExecuteTime": {
     "end_time": "2024-12-01T13:18:03.822362Z",
     "start_time": "2024-12-01T13:18:02.261840Z"
    }
   },
   "outputs": [],
   "source": [
    "# 模型和存储路径\n",
    "model_name = \"facebook/esm2_t33_650M_UR50D\"\n",
    "model_path = \"./models\"\n",
    "\n",
    "# 加载模型和 tokenizer\n",
    "Tokenizer = AutoTokenizer.from_pretrained(model_name, cache_dir=model_path)\n",
    "model = AutoModel.from_pretrained(model_name, cache_dir=model_path)\n"
   ]
  },
  {
   "cell_type": "code",
   "execution_count": null,
   "id": "762faa5c84f15d4e",
   "metadata": {
    "ExecuteTime": {
     "end_time": "2024-12-01T13:18:08.639589Z",
     "start_time": "2024-12-01T13:18:06.480187Z"
    }
   },
   "outputs": [],
   "source": [
    "# 读取数据\n",
    "file_path = \"./data/df_combined_filtered_grouped.pkl\"\n",
    "df = pd.read_pickle(file_path)\n",
    "df_non_null_stability = df[df['stability'].notna()]\n",
    "data = df_non_null_stability[['sequence', 'stability']]\n",
    "data_dict = {\n",
    "    \"sequence\": data['sequence'].tolist(),\n",
    "    \"stability\": data['stability'].tolist(),\n",
    "}\n",
    "\n",
    "# 数据集类\n",
    "class SequenceStabilityDataset(Dataset):\n",
    "    def __init__(self, sequences, stabilities, tokenizer=Tokenizer, max_length=max_length):\n",
    "        self.sequences = sequences\n",
    "        self.stabilities = torch.tensor(stabilities, dtype=torch.float32)\n",
    "        self.encoded_sequences = tokenizer(\n",
    "            sequences, return_tensors=\"pt\", padding=True, truncation=True, max_length=max_length\n",
    "        )\n",
    "\n",
    "    def __len__(self):\n",
    "        return len(self.sequences)\n",
    "\n",
    "    def __getitem__(self, idx):\n",
    "        return {\n",
    "            'sequence': {key: val[idx] for key, val in self.encoded_sequences.items()},\n",
    "            'stability': self.stabilities[idx]\n",
    "        }\n",
    "\n",
    "# 数据集分割\n",
    "train_sequences, val_sequences, train_stabilities, val_stabilities = train_test_split(\n",
    "    data_dict['sequence'],\n",
    "    data_dict['stability'],\n",
    "    test_size=0.2,\n",
    "    random_state=42\n",
    ")\n",
    "\n",
    "train_dataset = SequenceStabilityDataset(train_sequences, train_stabilities, tokenizer=Tokenizer)\n",
    "val_dataset = SequenceStabilityDataset(val_sequences, val_stabilities, tokenizer=Tokenizer)\n",
    "\n",
    "train_dataloader = DataLoader(train_dataset, batch_size=batch_size, shuffle=True)\n",
    "val_dataloader = DataLoader(val_dataset, batch_size=batch_size, shuffle=False)\n"
   ]
  },
  {
   "cell_type": "code",
   "execution_count": null,
   "id": "f95892fbc3832ccf",
   "metadata": {
    "ExecuteTime": {
     "end_time": "2024-12-01T13:18:12.992382Z",
     "start_time": "2024-12-01T13:18:12.989353Z"
    }
   },
   "outputs": [],
   "source": [
    "# 模型定义\n",
    "class StabilityPredictor(nn.Module):\n",
    "    def __init__(self, base_model):\n",
    "        super(StabilityPredictor, self).__init__()\n",
    "        self.base_model = base_model\n",
    "        self.regressor = nn.Linear(base_model.config.hidden_size, 1)\n",
    "\n",
    "    def forward(self, input_ids, attention_mask):\n",
    "        outputs = self.base_model(input_ids=input_ids, attention_mask=attention_mask)\n",
    "        cls_hidden_state = outputs.last_hidden_state[:, 0, :]\n",
    "        stability = self.regressor(cls_hidden_state)\n",
    "        return stability"
   ]
  },
  {
   "cell_type": "code",
   "execution_count": null,
   "id": "c66327e30fce5837",
   "metadata": {
    "ExecuteTime": {
     "end_time": "2024-12-01T13:18:17.862643Z",
     "start_time": "2024-12-01T13:18:15.084140Z"
    }
   },
   "outputs": [],
   "source": [
    "# 初始化模型\n",
    "stability_model = StabilityPredictor(model)\n",
    "stability_model.to(device)\n",
    "\n",
    "# 损失函数和优化器\n",
    "criterion = nn.MSELoss()\n",
    "optimizer = AdamW(stability_model.parameters(), lr=lr)"
   ]
  },
  {
   "cell_type": "code",
   "execution_count": null,
   "id": "33eae45f65ae6306",
   "metadata": {
    "ExecuteTime": {
     "end_time": "2024-12-01T13:19:48.732551Z",
     "start_time": "2024-12-01T13:18:22.921382Z"
    }
   },
   "outputs": [],
   "source": [
    "# 训练和验证\n",
    "for epoch in range(epochs):\n",
    "    # 训练阶段\n",
    "    stability_model.train()\n",
    "    train_loss = 0.0\n",
    "    train_progress = tqdm(train_dataloader, desc=f\"Epoch {epoch+1}/{epochs} (Training)\")\n",
    "    for batch in train_progress:\n",
    "        input_ids = batch['sequence']['input_ids'].to(device)\n",
    "        attention_mask = batch['sequence']['attention_mask'].to(device)\n",
    "        labels = batch['stability'].to(device)\n",
    "\n",
    "        optimizer.zero_grad()\n",
    "        outputs = stability_model(input_ids, attention_mask)\n",
    "        loss = criterion(outputs.squeeze(), labels)\n",
    "        loss.backward()\n",
    "        optimizer.step()\n",
    "\n",
    "        train_loss += loss.item()\n",
    "        avg_batch_loss = train_loss / (len(train_progress))\n",
    "        train_progress.set_postfix({\"Batch Loss\": loss.item(), \"Avg Loss\": avg_batch_loss})\n",
    "    avg_train_loss = train_loss / len(train_dataloader)\n",
    "\n",
    "    # 验证阶段\n",
    "    stability_model.eval()\n",
    "    val_loss = 0.0\n",
    "    val_progress = tqdm(val_dataloader, desc=f\"Epoch {epoch+1}/{epochs} (Validation)\")\n",
    "    with torch.no_grad():\n",
    "        for batch in val_progress:\n",
    "            input_ids = batch['sequence']['input_ids'].to(device)\n",
    "            attention_mask = batch['sequence']['attention_mask'].to(device)\n",
    "            labels = batch['stability'].to(device)\n",
    "\n",
    "            outputs = stability_model(input_ids, attention_mask)\n",
    "            loss = criterion(outputs.squeeze(), labels)\n",
    "            val_loss += loss.item()\n",
    "            avg_val_batch_loss = val_loss / (len(val_progress))\n",
    "            val_progress.set_postfix({\"Batch Loss\": loss.item(), \"Avg Loss\": avg_val_batch_loss})\n",
    "    avg_val_loss = val_loss / len(val_dataloader)\n",
    "\n",
    "    print(f\"Epoch {epoch+1}/{epochs} - Train Loss: {avg_train_loss:.4f}, Val Loss: {avg_val_loss:.4f}\")\n",
    "\n",
    "# 保存模型\n",
    "save_path = \"./stability_model.pth\"\n",
    "torch.save(stability_model.state_dict(), save_path)\n",
    "print(f\"Model saved to {save_path}\")"
   ]
  },
  {
   "cell_type": "code",
   "execution_count": null,
   "id": "a6e753dbf03a7ad1",
   "metadata": {},
   "outputs": [],
   "source": [
    "# 评估模型性能\n",
    "stability_model.eval()\n",
    "predictions = []\n",
    "true_values = []\n",
    "with torch.no_grad():\n",
    "    for batch in val_dataloader:\n",
    "        input_ids = batch['sequence']['input_ids'].to(device)\n",
    "        attention_mask = batch['sequence']['attention_mask'].to(device)\n",
    "        labels = batch['stability'].to(device)\n",
    "\n",
    "        outputs = stability_model(input_ids, attention_mask)\n",
    "        predictions.extend(outputs.squeeze().cpu().numpy())\n",
    "        true_values.extend(labels.cpu().numpy())\n",
    "\n",
    "mse = mean_squared_error(true_values, predictions)\n",
    "r2 = r2_score(true_values, predictions)\n",
    "print(f\"Mean Squared Error: {mse:.4f}, R^2 Score: {r2:.4f}\")\n",
    "\n",
    "mse = mean_squared_error(true_values, predictions)\n",
    "r2 = r2_score(true_values, predictions)\n",
    "print(f\"Mean Squared Error: {mse:.4f}, R^2 Score: {r2:.4f}\")"
   ]
  },
  {
   "cell_type": "code",
   "execution_count": null,
   "id": "da869547c4b7c217",
   "metadata": {},
   "outputs": [],
   "source": [
    "# 预测稳定性\n",
    "sequence = \"MKTVRQERLKSIVRILERSKEPVSGAQLAEELSVSRQVIVQDIAYLRSLGYNIVATPRGYVLAGG\"\n",
    "encoded_sequence = Tokenizer(sequence, return_tensors=\"pt\")\n",
    "input_ids = encoded_sequence['input_ids'].to(device)\n",
    "attention_mask = encoded_sequence['attention_mask'].to(device)\n",
    "stability = stability_model(input_ids, attention_mask).item()\n",
    "print(f\"Predicted Stability: {stability:.4f}\")"
   ]
  }
 ],
 "metadata": {
  "kernelspec": {
   "display_name": "Python 3",
   "language": "python",
   "name": "python3"
  },
  "language_info": {
   "codemirror_mode": {
    "name": "ipython",
    "version": 2
   },
   "file_extension": ".py",
   "mimetype": "text/x-python",
   "name": "python",
   "nbconvert_exporter": "python",
   "pygments_lexer": "ipython2",
   "version": "2.7.6"
  }
 },
 "nbformat": 4,
 "nbformat_minor": 5
}
