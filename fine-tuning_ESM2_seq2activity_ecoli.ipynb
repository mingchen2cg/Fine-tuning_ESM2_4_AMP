{
 "cells": [
  {
   "cell_type": "code",
   "id": "initial_id",
   "metadata": {
    "collapsed": true
   },
   "source": [
    "import torch\n",
    "from transformers import AutoTokenizer, AutoModel\n",
    "import pandas as pd\n",
    "from torch.utils.data import Dataset, DataLoader\n",
    "from torch import nn\n",
    "from transformers import AdamW\n",
    "from sklearn.model_selection import train_test_split\n",
    "from sklearn.metrics import mean_squared_error, r2_score\n",
    "from tqdm import tqdm\n",
    "import os"
   ],
   "outputs": [],
   "execution_count": null
  },
  {
   "metadata": {},
   "cell_type": "code",
   "source": [
    "# 检查设备\n",
    "device = torch.device(\"mps\" if torch.backends.mps.is_available() else \"cuda\" if torch.cuda.is_available() else \"cpu\")\n",
    "print(f\"Using device: {device}\")\n",
    "batch_size = 1\n",
    "lr = 5e-5\n",
    "max_length = 128\n",
    "epochs = 5"
   ],
   "id": "c79b97429fcd0918",
   "outputs": [],
   "execution_count": null
  },
  {
   "metadata": {},
   "cell_type": "code",
   "source": [
    "# 模型和存储路径\n",
    "model_name = \"facebook/esm2_t33_650M_UR50D\"\n",
    "model_path = \"./models\"\n",
    "# 检查路径是否存在，如果不存在则创建\n",
    "if not os.path.exists(model_path):\n",
    "    os.makedirs(model_path)\n",
    "# 加载模型和 tokenizer\n",
    "Tokenizer = AutoTokenizer.from_pretrained(model_name, cache_dir=model_path)\n",
    "model = AutoModel.from_pretrained(model_name, cache_dir=model_path)"
   ],
   "id": "59e617749bc5b5a2",
   "outputs": [],
   "execution_count": null
  },
  {
   "metadata": {},
   "cell_type": "code",
   "source": [
    "# 读取数据\n",
    "file_path = \"./data/df_combined_filtered_grouped.pkl\"\n",
    "df = pd.read_pickle(file_path)\n",
    "df_non_null_toxicity = df[df['activity_ecoli'].notna()]\n",
    "data = df_non_null_toxicity[['sequence', 'activity_ecoli']]\n",
    "data_dict = {\n",
    "    \"sequence\": data['sequence'].tolist(),\n",
    "    \"activity_ecoli\": data['activity_ecoli'].tolist(),\n",
    "}\n",
    "\n",
    "\n",
    "\"\"\"\n",
    "print(len(data_dict['sequence']))\n",
    "print(len(data_dict['activity_ecoli']))\n",
    "\n",
    "output：\n",
    "1865\n",
    "1865\n",
    "\"\"\""
   ],
   "id": "9d268813331a688e",
   "outputs": [],
   "execution_count": null
  },
  {
   "metadata": {},
   "cell_type": "code",
   "source": [
    "# 数据集类\n",
    "class SequenceActivityEcoliDataset(Dataset):\n",
    "    def __init__(self, sequences, activity_ecoli, tokenizer=Tokenizer, max_length=max_length):\n",
    "        self.sequences = sequences\n",
    "        self.activity_ecoli = torch.tensor(activity_ecoli, dtype=torch.float32)\n",
    "        self.encoded_sequences = tokenizer(\n",
    "            sequences, return_tensors=\"pt\", padding=True, truncation=True, max_length=max_length\n",
    "        )\n",
    "\n",
    "    def __len__(self):\n",
    "        return len(self.sequences)\n",
    "\n",
    "    def __getitem__(self, idx):\n",
    "        return {\n",
    "            'sequence': {key: val[idx] for key, val in self.encoded_sequences.items()},\n",
    "            'activity_ecoli': self.activity_ecoli[idx]\n",
    "        }\n"
   ],
   "id": "df896571e8d46157",
   "outputs": [],
   "execution_count": null
  },
  {
   "metadata": {},
   "cell_type": "code",
   "source": [
    "# 数据集分割\n",
    "train_sequences, val_sequences, train_activity_ecoli, val_activity_ecoli = train_test_split(\n",
    "    data_dict['sequence'],\n",
    "    data_dict['activity_ecoli'],\n",
    "    test_size=0.2,\n",
    "    random_state=42\n",
    ")\n",
    "train_dataset = SequenceActivityEcoliDataset(train_sequences, train_activity_ecoli, tokenizer=Tokenizer)\n",
    "val_dataset = SequenceActivityEcoliDataset(val_sequences, val_activity_ecoli, tokenizer=Tokenizer)\n",
    "train_dataloader = DataLoader(train_dataset, batch_size=batch_size, shuffle=True)\n",
    "val_dataloader = DataLoader(val_dataset, batch_size=batch_size, shuffle=False)"
   ],
   "id": "8827c06b7507ae73",
   "outputs": [],
   "execution_count": null
  },
  {
   "metadata": {},
   "cell_type": "code",
   "source": [
    "# 定义模型\n",
    "class Activity_ecoliPredictor(nn.Module):\n",
    "    def __init__(self, base_model):\n",
    "        super(Activity_ecoliPredictor, self).__init__()\n",
    "        self.base_model = base_model\n",
    "        self.regressor = nn.Linear(base_model.config.hidden_size, 1)\n",
    "\n",
    "    def forward(self, input_ids, attention_mask):\n",
    "        outputs = self.base_model(input_ids=input_ids, attention_mask=attention_mask)\n",
    "        cls_hidden_state = outputs.last_hidden_state[:, 0, :]\n",
    "        activity_ecoli = self.regressor(cls_hidden_state)\n",
    "        return activity_ecoli"
   ],
   "id": "38ab506f7cdb00db",
   "outputs": [],
   "execution_count": null
  },
  {
   "metadata": {},
   "cell_type": "code",
   "source": [
    "# 初始化模型\n",
    "Activity_ecoli_model = Activity_ecoliPredictor(model)\n",
    "Activity_ecoli_model.to(device)\n",
    "\n",
    "# 损失函数和优化器\n",
    "criterion = nn.MSELoss()\n",
    "optimizer = AdamW(Activity_ecoli_model.parameters(), lr=lr)"
   ],
   "id": "2df6f07cb31eba1b",
   "outputs": [],
   "execution_count": null
  },
  {
   "metadata": {},
   "cell_type": "code",
   "source": [
    "# 训练和验证\n",
    "for epoch in range(epochs):\n",
    "    # 训练阶段\n",
    "    Activity_ecoli_model.train()\n",
    "    train_loss = 0.0\n",
    "    train_progress = tqdm(train_dataloader, desc=f\"Epoch {epoch+1}/{epochs} (Training)\")\n",
    "    for batch in train_progress:\n",
    "        input_ids = batch['sequence']['input_ids'].to(device)\n",
    "        attention_mask = batch['sequence']['attention_mask'].to(device)\n",
    "        labels = batch['activity_ecoli'].to(device)\n",
    "\n",
    "        optimizer.zero_grad()\n",
    "        outputs = Activity_ecoli_model(input_ids, attention_mask)\n",
    "        loss = criterion(outputs.squeeze(), labels)\n",
    "        loss.backward()\n",
    "        optimizer.step()\n",
    "\n",
    "        train_loss += loss.item()\n",
    "        avg_batch_loss = train_loss / (len(train_progress))\n",
    "        train_progress.set_postfix({\"Batch Loss\": loss.item(), \"Avg Loss\": avg_batch_loss})\n",
    "    avg_train_loss = train_loss / len(train_dataloader)\n",
    "\n",
    "    save_dir = \"./autodl-tmp/\"\n",
    "    os.makedirs(save_dir, exist_ok=True)\n",
    "    cheakpoints_save_path = f\"{save_dir}activity_ecoli_epoch{epoch+1}.pth\"\n",
    "    torch.save(Activity_ecoli_model.state_dict(), cheakpoints_save_path)\n",
    "\n",
    "    # 验证阶段\n",
    "    Activity_ecoli_model.eval()\n",
    "    val_loss = 0.0\n",
    "    val_progress = tqdm(val_dataloader, desc=f\"Epoch {epoch+1}/{epochs} (Validation)\")\n",
    "    with torch.no_grad():\n",
    "        for batch in val_progress:\n",
    "            input_ids = batch['sequence']['input_ids'].to(device)\n",
    "            attention_mask = batch['sequence']['attention_mask'].to(device)\n",
    "            labels = batch['activity_ecoli'].to(device)\n",
    "\n",
    "            outputs = Activity_ecoli_model(input_ids, attention_mask)\n",
    "            loss = criterion(outputs.squeeze(), labels)\n",
    "            val_loss += loss.item()\n",
    "            avg_val_batch_loss = val_loss / (len(val_progress))\n",
    "            val_progress.set_postfix({\"Batch Loss\": loss.item(), \"Avg Loss\": avg_val_batch_loss})\n",
    "    avg_val_loss = val_loss / len(val_dataloader)\n",
    "\n",
    "    print(f\"Epoch {epoch+1}/{epochs} - Train Loss: {avg_train_loss:.4f}, Val Loss: {avg_val_loss:.4f}\")\n",
    "\n",
    "# 保存模型\n",
    "save_path = \"./autodl-tmp/activity_ecoli_model.pth\"\n",
    "torch.save(Activity_ecoli_model.state_dict(), save_path)\n",
    "print(f\"Model saved to {save_path}\")"
   ],
   "id": "ffc458d9a9468ac7",
   "outputs": [],
   "execution_count": null
  },
  {
   "metadata": {},
   "cell_type": "code",
   "source": [
    "# 评估模型性能\n",
    "Activity_ecoli_model.eval()\n",
    "predictions = []\n",
    "true_values = []\n",
    "with torch.no_grad():\n",
    "    for batch in tqdm(val_dataloader):\n",
    "        input_ids = batch['sequence']['input_ids'].to(device)\n",
    "        attention_mask = batch['sequence']['attention_mask'].to(device)\n",
    "        labels = batch['activity_ecoli'].to(device)\n",
    "\n",
    "        outputs = Activity_ecoli_model(input_ids, attention_mask)\n",
    "\n",
    "        predictions.extend(outputs.view(-1).cpu().numpy())\n",
    "        true_values.extend(labels.cpu().numpy())\n",
    "\n",
    "mse = mean_squared_error(true_values, predictions)\n",
    "r2 = r2_score(true_values, predictions)\n",
    "print(f\"Mean Squared Error: {mse:.4f}, R^2 Score: {r2:.4f}\")\n",
    "\n",
    "mse = mean_squared_error(true_values, predictions)\n",
    "r2 = r2_score(true_values, predictions)\n",
    "print(f\"Mean Squared Error: {mse:.4f}, R^2 Score: {r2:.4f}\")"
   ],
   "id": "26ef7b5ba773db4a",
   "outputs": [],
   "execution_count": null
  },
  {
   "metadata": {},
   "cell_type": "code",
   "source": [
    "# 预测activity_ecoli\n",
    "sequence = \"MKTVRQERLKSIVRILERSKEPVSGAQLAEELSVSRQVIVQDIAYLRSLGYNIVATPRGYVLAGG\"\n",
    "encoded_sequence = Tokenizer(sequence, return_tensors=\"pt\")\n",
    "input_ids = encoded_sequence['input_ids'].to(device)\n",
    "attention_mask = encoded_sequence['attention_mask'].to(device)\n",
    "activity_ecoli = Activity_ecoli_model(input_ids, attention_mask).item()\n",
    "print(f\"Predicted activity_ecoli: {activity_ecoli:.4f}\")"
   ],
   "id": "41d350be859744d7",
   "outputs": [],
   "execution_count": null
  }
 ],
 "metadata": {
  "kernelspec": {
   "display_name": "Python 3",
   "language": "python",
   "name": "python3"
  },
  "language_info": {
   "codemirror_mode": {
    "name": "ipython",
    "version": 2
   },
   "file_extension": ".py",
   "mimetype": "text/x-python",
   "name": "python",
   "nbconvert_exporter": "python",
   "pygments_lexer": "ipython2",
   "version": "2.7.6"
  }
 },
 "nbformat": 4,
 "nbformat_minor": 5
}
