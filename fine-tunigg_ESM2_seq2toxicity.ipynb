{
 "cells": [
  {
   "metadata": {
    "ExecuteTime": {
     "end_time": "2024-12-02T09:13:54.882331Z",
     "start_time": "2024-12-02T09:13:54.878318Z"
    }
   },
   "cell_type": "code",
   "source": [
    "import torch\n",
    "from transformers import AutoTokenizer, AutoModel\n",
    "import pandas as pd\n",
    "from torch.utils.data import Dataset, DataLoader\n",
    "from torch import nn\n",
    "from transformers import AdamW\n",
    "from sklearn.model_selection import train_test_split\n",
    "from sklearn.metrics import accuracy_score, precision_score, recall_score, f1_score\n",
    "from tqdm import tqdm"
   ],
   "id": "a749cdb60acb5412",
   "outputs": [],
   "execution_count": 2
  },
  {
   "metadata": {
    "ExecuteTime": {
     "end_time": "2024-12-02T09:13:54.917676Z",
     "start_time": "2024-12-02T09:13:54.891289Z"
    }
   },
   "cell_type": "code",
   "source": [
    "# 检查设备\n",
    "device = torch.device(\"mps\" if torch.backends.mps.is_available() else \"cuda\" if torch.cuda.is_available() else \"cpu\")\n",
    "print(f\"Using device: {device}\")\n",
    "batch_size = 1\n",
    "lr = 5e-5\n",
    "max_length = 128\n",
    "epochs = 5"
   ],
   "id": "db5f1c783543966a",
   "outputs": [
    {
     "name": "stdout",
     "output_type": "stream",
     "text": [
      "Using device: mps\n"
     ]
    }
   ],
   "execution_count": 3
  },
  {
   "metadata": {
    "ExecuteTime": {
     "end_time": "2024-12-02T09:13:56.438024Z",
     "start_time": "2024-12-02T09:13:54.924366Z"
    }
   },
   "cell_type": "code",
   "source": [
    "# 模型和存储路径\n",
    "model_name = \"facebook/esm2_t33_650M_UR50D\"\n",
    "model_path = \"./models\"\n",
    "\n",
    "# 加载模型和 tokenizer\n",
    "Tokenizer = AutoTokenizer.from_pretrained(model_name, cache_dir=model_path)\n",
    "model = AutoModel.from_pretrained(model_name, cache_dir=model_path)\n"
   ],
   "id": "83acfb019a5641e8",
   "outputs": [
    {
     "name": "stderr",
     "output_type": "stream",
     "text": [
      "Some weights of EsmModel were not initialized from the model checkpoint at facebook/esm2_t33_650M_UR50D and are newly initialized: ['esm.pooler.dense.bias', 'esm.pooler.dense.weight']\n",
      "You should probably TRAIN this model on a down-stream task to be able to use it for predictions and inference.\n"
     ]
    }
   ],
   "execution_count": 4
  },
  {
   "metadata": {
    "ExecuteTime": {
     "end_time": "2024-12-02T09:13:56.458015Z",
     "start_time": "2024-12-02T09:13:56.443291Z"
    }
   },
   "cell_type": "code",
   "source": [
    "# 读取数据\n",
    "file_path = \"./data/df_combined_filtered_grouped.pkl\"\n",
    "df = pd.read_pickle(file_path)\n",
    "df_non_null_toxicity = df[df['toxicity'].notna()]\n",
    "data = df_non_null_toxicity[['sequence', 'toxicity']]\n",
    "data_dict = {\n",
    "    \"sequence\": data['sequence'].tolist(),\n",
    "    \"toxicity\": data['toxicity'].tolist(),\n",
    "}\n",
    "\n",
    "\"\"\"\n",
    "# 统计toxicity的分布\n",
    "toxicity_values = data['toxicity'].value_counts()\n",
    "print(toxicity_values)\n",
    "\n",
    "output:\n",
    "toxicity\n",
    "False    15912\n",
    "True      3634\n",
    "Name: count, dtype: int64\n",
    "\"\"\""
   ],
   "id": "9c7419d907313c05",
   "outputs": [
    {
     "data": {
      "text/plain": [
       "\"\\n# 统计toxicity的分布\\ntoxicity_values = data['toxicity'].value_counts()\\nprint(toxicity_values)\\n\\noutput:\\ntoxicity\\nFalse    15912\\nTrue      3634\\nName: count, dtype: int64\\n\""
      ]
     },
     "execution_count": 5,
     "metadata": {},
     "output_type": "execute_result"
    }
   ],
   "execution_count": 5
  },
  {
   "cell_type": "code",
   "id": "initial_id",
   "metadata": {
    "collapsed": true,
    "ExecuteTime": {
     "end_time": "2024-12-02T09:13:56.467268Z",
     "start_time": "2024-12-02T09:13:56.465225Z"
    }
   },
   "source": [
    "# 数据集类\n",
    "class SequenceStabilityDataset(Dataset):\n",
    "    def __init__(self, sequences, toxicity, tokenizer=Tokenizer, max_length=max_length):\n",
    "        self.sequences = sequences\n",
    "        self.toxicity = torch.tensor(toxicity, dtype=torch.float32)\n",
    "        self.encoded_sequences = tokenizer(\n",
    "            sequences, return_tensors=\"pt\", padding=True, truncation=True, max_length=max_length\n",
    "        )\n",
    "\n",
    "    def __len__(self):\n",
    "        return len(self.sequences)\n",
    "\n",
    "    def __getitem__(self, idx):\n",
    "        return {\n",
    "            'sequence': {key: val[idx] for key, val in self.encoded_sequences.items()},\n",
    "            'toxicity': self.toxicity[idx]\n",
    "        }"
   ],
   "outputs": [],
   "execution_count": 6
  },
  {
   "metadata": {
    "ExecuteTime": {
     "end_time": "2024-12-02T09:13:57.025219Z",
     "start_time": "2024-12-02T09:13:56.472466Z"
    }
   },
   "cell_type": "code",
   "source": [
    "# 数据集分割\n",
    "train_sequences, val_sequences, train_toxicity, val_toxicity = train_test_split(\n",
    "    data_dict['sequence'],\n",
    "    data_dict['toxicity'],\n",
    "    test_size=0.2,\n",
    "    random_state=42\n",
    ")\n",
    "\n",
    "train_dataset = SequenceStabilityDataset(train_sequences, train_toxicity, tokenizer=Tokenizer)\n",
    "val_dataset = SequenceStabilityDataset(val_sequences, val_toxicity, tokenizer=Tokenizer)\n",
    "\n",
    "train_dataloader = DataLoader(train_dataset, batch_size=batch_size, shuffle=True)\n",
    "val_dataloader = DataLoader(val_dataset, batch_size=batch_size, shuffle=False)\n"
   ],
   "id": "af5b6185d0dac0f9",
   "outputs": [],
   "execution_count": 7
  },
  {
   "metadata": {
    "ExecuteTime": {
     "end_time": "2024-12-02T09:13:57.033324Z",
     "start_time": "2024-12-02T09:13:57.031486Z"
    }
   },
   "cell_type": "code",
   "source": [
    "# 定义模型\n",
    "class ToxicityPredictor(nn.Module):\n",
    "    def __init__(self, base_model):\n",
    "        super(ToxicityPredictor, self).__init__()\n",
    "        self.base_model = base_model\n",
    "        self.classifier = nn.Linear(base_model.config.hidden_size, 2)  # 二分类\n",
    "\n",
    "    def forward(self, input_ids, attention_mask):\n",
    "        # 获取 base_model 的输出\n",
    "        outputs = self.base_model(input_ids=input_ids, attention_mask=attention_mask)\n",
    "        # 取 [CLS] 的隐藏状态\n",
    "        cls_hidden_state = outputs.last_hidden_state[:, 0, :]\n",
    "        # 通过分类层\n",
    "        logits = self.classifier(cls_hidden_state)\n",
    "        return logits"
   ],
   "id": "6a372f89d6e46599",
   "outputs": [],
   "execution_count": 8
  },
  {
   "metadata": {
    "ExecuteTime": {
     "end_time": "2024-12-02T09:13:59.366229Z",
     "start_time": "2024-12-02T09:13:57.039674Z"
    }
   },
   "cell_type": "code",
   "source": [
    "# 初始化模型\n",
    "toxicity_model = ToxicityPredictor(model)\n",
    "toxicity_model.to(device)\n",
    "\n",
    "# 损失函数和优化器\n",
    "criterion = nn.MSELoss()\n",
    "optimizer = AdamW(toxicity_model.parameters(), lr=lr)"
   ],
   "id": "e5b897a6629d093f",
   "outputs": [
    {
     "name": "stderr",
     "output_type": "stream",
     "text": [
      "/opt/miniconda3/envs/ESM2/lib/python3.9/site-packages/transformers/optimization.py:591: FutureWarning: This implementation of AdamW is deprecated and will be removed in a future version. Use the PyTorch implementation torch.optim.AdamW instead, or set `no_deprecation_warning=True` to disable this warning\n",
      "  warnings.warn(\n"
     ]
    }
   ],
   "execution_count": 9
  },
  {
   "metadata": {
    "ExecuteTime": {
     "end_time": "2024-12-02T09:13:59.380831Z",
     "start_time": "2024-12-02T09:13:59.378645Z"
    }
   },
   "cell_type": "code",
   "source": [
    "# 训练和验证\n",
    "# for epoch in range(epochs):\n",
    "#     # 训练阶段\n",
    "#     toxicity_model.train()\n",
    "#     train_loss = 0.0\n",
    "#     train_progress = tqdm(train_dataloader, desc=f\"Epoch {epoch+1}/{epochs} (Training)\")\n",
    "#     for batch in train_progress:\n",
    "#         input_ids = batch['sequence']['input_ids'].to(device)\n",
    "#         attention_mask = batch['sequence']['attention_mask'].to(device)\n",
    "#         labels = batch['toxicity'].to(device)\n",
    "#\n",
    "#         optimizer.zero_grad()\n",
    "#         outputs = toxicity_model(input_ids, attention_mask)\n",
    "#         loss = criterion(outputs.squeeze(), labels)\n",
    "#         loss.backward()\n",
    "#         optimizer.step()\n",
    "#\n",
    "#         train_loss += loss.item()\n",
    "#         avg_batch_loss = train_loss / (len(train_progress))\n",
    "#         train_progress.set_postfix({\"Batch Loss\": loss.item(), \"Avg Loss\": avg_batch_loss})\n",
    "#     avg_train_loss = train_loss / len(train_dataloader)\n",
    "#\n",
    "#     # 验证阶段\n",
    "#     toxicity_model.eval()\n",
    "#     val_loss = 0.0\n",
    "#     val_progress = tqdm(val_dataloader, desc=f\"Epoch {epoch+1}/{epochs} (Validation)\")\n",
    "#     with torch.no_grad():\n",
    "#         for batch in val_progress:\n",
    "#             input_ids = batch['sequence']['input_ids'].to(device)\n",
    "#             attention_mask = batch['sequence']['attention_mask'].to(device)\n",
    "#             labels = batch['toxicity'].to(device)\n",
    "#\n",
    "#             outputs = toxicity_model(input_ids, attention_mask)\n",
    "#             loss = criterion(outputs.squeeze(), labels)\n",
    "#             val_loss += loss.item()\n",
    "#             avg_val_batch_loss = val_loss / (len(val_progress))\n",
    "#             val_progress.set_postfix({\"Batch Loss\": loss.item(), \"Avg Loss\": avg_val_batch_loss})\n",
    "#     avg_val_loss = val_loss / len(val_dataloader)\n",
    "#\n",
    "#     print(f\"Epoch {epoch+1}/{epochs} - Train Loss: {avg_train_loss:.4f}, Val Loss: {avg_val_loss:.4f}\")\n",
    "#\n",
    "# # 保存模型\n",
    "# save_path = \"./toxicity_model.pth\"\n",
    "# torch.save(toxicity_model.state_dict(), save_path)\n",
    "# print(f\"Model saved to {save_path}\")"
   ],
   "id": "a4b4ce2065f43177",
   "outputs": [],
   "execution_count": 10
  },
  {
   "metadata": {
    "ExecuteTime": {
     "end_time": "2024-12-02T09:16:53.888134Z",
     "start_time": "2024-12-02T09:13:59.402893Z"
    }
   },
   "cell_type": "code",
   "source": [
    "# 评估模型性能\n",
    "toxicity_model.eval()\n",
    "predictions = []\n",
    "true_values = []\n",
    "count = 0 # 用于测试\n",
    "with torch.no_grad():\n",
    "    for batch in tqdm(val_dataloader):\n",
    "        input_ids = batch['sequence']['input_ids'].to(device)\n",
    "        attention_mask = batch['sequence']['attention_mask'].to(device)\n",
    "        labels = batch['toxicity'].to(device)\n",
    "\n",
    "        outputs = toxicity_model(input_ids, attention_mask)\n",
    "\n",
    "        # 选取每个样本得分最大的类别\n",
    "        predicted_labels = torch.argmax(outputs, dim=1)  # 选择最大概率的类别\n",
    "\n",
    "        # 保存预测结果和真实标签\n",
    "        predictions.extend(predicted_labels.cpu().numpy())\n",
    "        true_values.extend(labels.cpu().numpy())\n",
    "\n",
    "# 计算准确率、精度、召回率、F1分数、AUC-ROC\n",
    "accuracy = accuracy_score(true_values, predictions)\n",
    "precision = precision_score(true_values, predictions)\n",
    "recall = recall_score(true_values, predictions)\n",
    "f1 = f1_score(true_values, predictions)\n",
    "\n",
    "# 打印所有评估指标\n",
    "print(f\"Accuracy: {accuracy:.4f}\")\n",
    "print(f\"Precision: {precision:.4f}\")\n",
    "print(f\"Recall: {recall:.4f}\")\n",
    "print(f\"F1 Score: {f1:.4f}\")"
   ],
   "id": "db3827b5ea90ecda",
   "outputs": [
    {
     "name": "stderr",
     "output_type": "stream",
     "text": [
      "100%|██████████| 3910/3910 [02:54<00:00, 22.41it/s]"
     ]
    },
    {
     "name": "stdout",
     "output_type": "stream",
     "text": [
      "Accuracy: 0.8210\n",
      "Precision: 0.0000\n",
      "Recall: 0.0000\n",
      "F1 Score: 0.0000\n"
     ]
    },
    {
     "name": "stderr",
     "output_type": "stream",
     "text": [
      "\n",
      "/opt/miniconda3/envs/ESM2/lib/python3.9/site-packages/sklearn/metrics/_classification.py:1531: UndefinedMetricWarning: Precision is ill-defined and being set to 0.0 due to no predicted samples. Use `zero_division` parameter to control this behavior.\n",
      "  _warn_prf(average, modifier, f\"{metric.capitalize()} is\", len(result))\n"
     ]
    }
   ],
   "execution_count": 11
  }
 ],
 "metadata": {
  "kernelspec": {
   "display_name": "Python 3",
   "language": "python",
   "name": "python3"
  },
  "language_info": {
   "codemirror_mode": {
    "name": "ipython",
    "version": 2
   },
   "file_extension": ".py",
   "mimetype": "text/x-python",
   "name": "python",
   "nbconvert_exporter": "python",
   "pygments_lexer": "ipython2",
   "version": "2.7.6"
  }
 },
 "nbformat": 4,
 "nbformat_minor": 5
}
